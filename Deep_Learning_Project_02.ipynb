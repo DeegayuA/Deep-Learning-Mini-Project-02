{
  "nbformat": 4,
  "nbformat_minor": 0,
  "metadata": {
    "colab": {
      "provenance": []
    },
    "kernelspec": {
      "name": "python3",
      "display_name": "Python 3"
    },
    "language_info": {
      "name": "python"
    }
  },
  "cells": [
    {
      "cell_type": "markdown",
      "source": [
        "Import Necessary libraries"
      ],
      "metadata": {
        "id": "gXbk--v3Sha4"
      }
    },
    {
      "cell_type": "code",
      "execution_count": 32,
      "metadata": {
        "id": "BqPlVYZESYao"
      },
      "outputs": [],
      "source": [
        "import numpy as np\n",
        "import pandas as pd\n",
        "import matplotlib.pyplot as plt\n",
        "from sklearn.preprocessing import MinMaxScaler\n",
        "from tensorflow.keras.models import Sequential\n",
        "from tensorflow.keras.layers import LSTM, Dense\n",
        "from sklearn.metrics import mean_squared_error\n",
        "from math import sqrt\n",
        "import os"
      ]
    },
    {
      "cell_type": "markdown",
      "source": [
        "Mount Google Drive"
      ],
      "metadata": {
        "id": "5M42lQ0LSpTW"
      }
    },
    {
      "cell_type": "code",
      "source": [
        "from google.colab import drive\n",
        "drive.mount('/content/drive')"
      ],
      "metadata": {
        "colab": {
          "base_uri": "https://localhost:8080/"
        },
        "id": "bvMZ1yEmScCk",
        "outputId": "410767c3-a13e-407f-b183-dcbd894752c0"
      },
      "execution_count": 33,
      "outputs": [
        {
          "output_type": "stream",
          "name": "stdout",
          "text": [
            "Drive already mounted at /content/drive; to attempt to forcibly remount, call drive.mount(\"/content/drive\", force_remount=True).\n"
          ]
        }
      ]
    },
    {
      "cell_type": "markdown",
      "source": [
        "Specify the path to the CSV file of the dataset on Google Drive"
      ],
      "metadata": {
        "id": "H6EjQ5YaS1p1"
      }
    },
    {
      "cell_type": "code",
      "source": [
        "file_path = '/content/drive/MyDrive/Deep_Learning/Project02/CSE_Data.csv'\n",
        "file_exists = os.path.exists(file_path)\n",
        "if file_exists:\n",
        "    print(\"File loaded successfully.\")\n",
        "else:\n",
        "    print(\"File not found.\")"
      ],
      "metadata": {
        "id": "rzHsuCvzS0WS",
        "colab": {
          "base_uri": "https://localhost:8080/"
        },
        "outputId": "53aa9257-3782-4dcd-b183-2a45ea103db8"
      },
      "execution_count": 34,
      "outputs": [
        {
          "output_type": "stream",
          "name": "stdout",
          "text": [
            "File loaded successfully.\n"
          ]
        }
      ]
    },
    {
      "cell_type": "markdown",
      "source": [
        "Load Data"
      ],
      "metadata": {
        "id": "NgdNrGpaURe7"
      }
    },
    {
      "cell_type": "code",
      "source": [
        "data = pd.read_csv(file_path)\n",
        "prices = data['Price'].values.reshape(-1, 1)"
      ],
      "metadata": {
        "id": "7UzIQGbzUTq0"
      },
      "execution_count": 35,
      "outputs": []
    },
    {
      "cell_type": "markdown",
      "source": [
        "Normalize data"
      ],
      "metadata": {
        "id": "OPqZgzuEUUp4"
      }
    },
    {
      "cell_type": "code",
      "source": [
        "prices_float = np.array([float(price.replace(',', '')) for price in prices.ravel()]).reshape(-1, 1)\n",
        "scaler = MinMaxScaler(feature_range=(0, 1))\n",
        "prices_normalized = scaler.fit_transform(prices_float)"
      ],
      "metadata": {
        "id": "z_VcYwHhUauj"
      },
      "execution_count": 58,
      "outputs": []
    },
    {
      "cell_type": "markdown",
      "source": [
        "Split data into training and testing sets"
      ],
      "metadata": {
        "id": "feTGpY5HUb29"
      }
    },
    {
      "cell_type": "code",
      "source": [
        "split_ratio = 0.8\n",
        "split_index = int(len(prices_normalized) * split_ratio)\n",
        "train_data = prices_normalized[:split_index]\n",
        "test_data = prices_normalized[split_index:]"
      ],
      "metadata": {
        "id": "mnXz1paFU-Wx"
      },
      "execution_count": 59,
      "outputs": []
    },
    {
      "cell_type": "markdown",
      "source": [
        "Prepare data for LSTM"
      ],
      "metadata": {
        "id": "1uUyqzBVVA0s"
      }
    },
    {
      "cell_type": "code",
      "source": [
        "def create_dataset(dataset, time_steps=1):\n",
        "    x, y = [], []\n",
        "    for i in range(len(dataset) - time_steps):\n",
        "        a = dataset[i:(i + time_steps), 0]\n",
        "        x.append(a)\n",
        "        y.append(dataset[i + time_steps, 0])\n",
        "    return np.array(x), np.array(y)\n",
        "\n",
        "time_steps = 20\n",
        "X_train, y_train = create_dataset(train_data, time_steps)\n",
        "X_test, y_test = create_dataset(test_data, time_steps)\n",
        "\n",
        "X_train = np.reshape(X_train, (X_train.shape[0], X_train.shape[1], 1))\n",
        "X_test = np.reshape(X_test, (X_test.shape[0], X_test.shape[1], 1))"
      ],
      "metadata": {
        "id": "qNmaP7IRVFaL"
      },
      "execution_count": 60,
      "outputs": []
    },
    {
      "cell_type": "markdown",
      "source": [
        "Build LSTM model"
      ],
      "metadata": {
        "id": "IWKkXugeVMmo"
      }
    },
    {
      "cell_type": "code",
      "source": [
        "model = Sequential()\n",
        "model.add(LSTM(units=50, return_sequences=True, input_shape=(X_train.shape[1], 1)))\n",
        "model.add(LSTM(units=50, return_sequences=True))\n",
        "model.add(LSTM(units=50))\n",
        "model.add(Dense(units=1))\n",
        "\n",
        "model.compile(optimizer='adam', loss='mean_squared_error')\n",
        "model.fit(X_train, y_train, epochs=100, batch_size=64)"
      ],
      "metadata": {
        "colab": {
          "base_uri": "https://localhost:8080/"
        },
        "id": "pC3hlvUIVUHz",
        "outputId": "57f0e58e-e353-4fea-d06a-47620835f009"
      },
      "execution_count": 62,
      "outputs": [
        {
          "output_type": "stream",
          "name": "stdout",
          "text": [
            "Epoch 1/100\n",
            "70/70 [==============================] - 8s 49ms/step - loss: 0.0178\n",
            "Epoch 2/100\n",
            "70/70 [==============================] - 2s 32ms/step - loss: 3.9106e-04\n",
            "Epoch 3/100\n",
            "70/70 [==============================] - 2s 32ms/step - loss: 3.8861e-04\n",
            "Epoch 4/100\n",
            "70/70 [==============================] - 2s 31ms/step - loss: 3.7409e-04\n",
            "Epoch 5/100\n",
            "70/70 [==============================] - 2s 31ms/step - loss: 3.8079e-04\n",
            "Epoch 6/100\n",
            "70/70 [==============================] - 3s 38ms/step - loss: 3.6588e-04\n",
            "Epoch 7/100\n",
            "70/70 [==============================] - 4s 56ms/step - loss: 3.6605e-04\n",
            "Epoch 8/100\n",
            "70/70 [==============================] - 4s 55ms/step - loss: 3.7604e-04\n",
            "Epoch 9/100\n",
            "70/70 [==============================] - 5s 70ms/step - loss: 3.8124e-04\n",
            "Epoch 10/100\n",
            "70/70 [==============================] - 3s 49ms/step - loss: 3.8318e-04\n",
            "Epoch 11/100\n",
            "70/70 [==============================] - 3s 37ms/step - loss: 3.7733e-04\n",
            "Epoch 12/100\n",
            "70/70 [==============================] - 4s 57ms/step - loss: 3.5201e-04\n",
            "Epoch 13/100\n",
            "70/70 [==============================] - 4s 55ms/step - loss: 3.2703e-04\n",
            "Epoch 14/100\n",
            "70/70 [==============================] - 3s 48ms/step - loss: 3.2095e-04\n",
            "Epoch 15/100\n",
            "70/70 [==============================] - 3s 37ms/step - loss: 2.8797e-04\n",
            "Epoch 16/100\n",
            "70/70 [==============================] - 2s 31ms/step - loss: 2.7943e-04\n",
            "Epoch 17/100\n",
            "70/70 [==============================] - 2s 32ms/step - loss: 2.6410e-04\n",
            "Epoch 18/100\n",
            "70/70 [==============================] - 2s 32ms/step - loss: 3.5618e-04\n",
            "Epoch 19/100\n",
            "70/70 [==============================] - 3s 37ms/step - loss: 2.3975e-04\n",
            "Epoch 20/100\n",
            "70/70 [==============================] - 3s 49ms/step - loss: 2.8263e-04\n",
            "Epoch 21/100\n",
            "70/70 [==============================] - 2s 31ms/step - loss: 3.0702e-04\n",
            "Epoch 22/100\n",
            "70/70 [==============================] - 2s 32ms/step - loss: 2.1285e-04\n",
            "Epoch 23/100\n",
            "70/70 [==============================] - 2s 32ms/step - loss: 2.3777e-04\n",
            "Epoch 24/100\n",
            "70/70 [==============================] - 2s 32ms/step - loss: 2.2521e-04\n",
            "Epoch 25/100\n",
            "70/70 [==============================] - 3s 43ms/step - loss: 2.3471e-04\n",
            "Epoch 26/100\n",
            "70/70 [==============================] - 3s 42ms/step - loss: 1.9949e-04\n",
            "Epoch 27/100\n",
            "70/70 [==============================] - 2s 31ms/step - loss: 1.8997e-04\n",
            "Epoch 28/100\n",
            "70/70 [==============================] - 2s 31ms/step - loss: 2.6510e-04\n",
            "Epoch 29/100\n",
            "70/70 [==============================] - 2s 31ms/step - loss: 1.8032e-04\n",
            "Epoch 30/100\n",
            "70/70 [==============================] - 2s 30ms/step - loss: 1.6869e-04\n",
            "Epoch 31/100\n",
            "70/70 [==============================] - 3s 46ms/step - loss: 1.8147e-04\n",
            "Epoch 32/100\n",
            "70/70 [==============================] - 3s 40ms/step - loss: 1.6567e-04\n",
            "Epoch 33/100\n",
            "70/70 [==============================] - 2s 32ms/step - loss: 1.6193e-04\n",
            "Epoch 34/100\n",
            "70/70 [==============================] - 2s 30ms/step - loss: 1.5397e-04\n",
            "Epoch 35/100\n",
            "70/70 [==============================] - 2s 31ms/step - loss: 1.4682e-04\n",
            "Epoch 36/100\n",
            "70/70 [==============================] - 2s 32ms/step - loss: 1.3600e-04\n",
            "Epoch 37/100\n",
            "70/70 [==============================] - 3s 48ms/step - loss: 1.4936e-04\n",
            "Epoch 38/100\n",
            "70/70 [==============================] - 3s 36ms/step - loss: 1.4552e-04\n",
            "Epoch 39/100\n",
            "70/70 [==============================] - 2s 31ms/step - loss: 1.3893e-04\n",
            "Epoch 40/100\n",
            "70/70 [==============================] - 2s 31ms/step - loss: 1.7292e-04\n",
            "Epoch 41/100\n",
            "70/70 [==============================] - 2s 31ms/step - loss: 1.4108e-04\n",
            "Epoch 42/100\n",
            "70/70 [==============================] - 3s 36ms/step - loss: 1.1934e-04\n",
            "Epoch 43/100\n",
            "70/70 [==============================] - 3s 48ms/step - loss: 1.4196e-04\n",
            "Epoch 44/100\n",
            "70/70 [==============================] - 2s 32ms/step - loss: 1.1917e-04\n",
            "Epoch 45/100\n",
            "70/70 [==============================] - 2s 32ms/step - loss: 1.2159e-04\n",
            "Epoch 46/100\n",
            "70/70 [==============================] - 2s 32ms/step - loss: 1.4981e-04\n",
            "Epoch 47/100\n",
            "70/70 [==============================] - 2s 31ms/step - loss: 1.5672e-04\n",
            "Epoch 48/100\n",
            "70/70 [==============================] - 3s 41ms/step - loss: 1.1258e-04\n",
            "Epoch 49/100\n",
            "70/70 [==============================] - 3s 43ms/step - loss: 1.1311e-04\n",
            "Epoch 50/100\n",
            "70/70 [==============================] - 2s 32ms/step - loss: 1.0556e-04\n",
            "Epoch 51/100\n",
            "70/70 [==============================] - 2s 32ms/step - loss: 1.2724e-04\n",
            "Epoch 52/100\n",
            "70/70 [==============================] - 2s 32ms/step - loss: 1.2808e-04\n",
            "Epoch 53/100\n",
            "70/70 [==============================] - 2s 31ms/step - loss: 1.2859e-04\n",
            "Epoch 54/100\n",
            "70/70 [==============================] - 3s 46ms/step - loss: 1.1249e-04\n",
            "Epoch 55/100\n",
            "70/70 [==============================] - 3s 38ms/step - loss: 1.1493e-04\n",
            "Epoch 56/100\n",
            "70/70 [==============================] - 2s 32ms/step - loss: 1.0755e-04\n",
            "Epoch 57/100\n",
            "70/70 [==============================] - 2s 32ms/step - loss: 9.8939e-05\n",
            "Epoch 58/100\n",
            "70/70 [==============================] - 2s 32ms/step - loss: 9.2238e-05\n",
            "Epoch 59/100\n",
            "70/70 [==============================] - 2s 35ms/step - loss: 1.1883e-04\n",
            "Epoch 60/100\n",
            "70/70 [==============================] - 3s 47ms/step - loss: 1.0356e-04\n",
            "Epoch 61/100\n",
            "70/70 [==============================] - 2s 31ms/step - loss: 9.1439e-05\n",
            "Epoch 62/100\n",
            "70/70 [==============================] - 2s 31ms/step - loss: 8.3425e-05\n",
            "Epoch 63/100\n",
            "70/70 [==============================] - 2s 32ms/step - loss: 8.5271e-05\n",
            "Epoch 64/100\n",
            "70/70 [==============================] - 2s 32ms/step - loss: 9.2905e-05\n",
            "Epoch 65/100\n",
            "70/70 [==============================] - 3s 40ms/step - loss: 8.3253e-05\n",
            "Epoch 66/100\n",
            "70/70 [==============================] - 3s 43ms/step - loss: 7.9946e-05\n",
            "Epoch 67/100\n",
            "70/70 [==============================] - 2s 31ms/step - loss: 9.4848e-05\n",
            "Epoch 68/100\n",
            "70/70 [==============================] - 2s 31ms/step - loss: 8.0182e-05\n",
            "Epoch 69/100\n",
            "70/70 [==============================] - 2s 32ms/step - loss: 8.0559e-05\n",
            "Epoch 70/100\n",
            "70/70 [==============================] - 2s 32ms/step - loss: 7.9122e-05\n",
            "Epoch 71/100\n",
            "70/70 [==============================] - 3s 45ms/step - loss: 7.9416e-05\n",
            "Epoch 72/100\n",
            "70/70 [==============================] - 3s 39ms/step - loss: 6.7034e-05\n",
            "Epoch 73/100\n",
            "70/70 [==============================] - 2s 31ms/step - loss: 6.7103e-05\n",
            "Epoch 74/100\n",
            "70/70 [==============================] - 2s 31ms/step - loss: 7.5749e-05\n",
            "Epoch 75/100\n",
            "70/70 [==============================] - 2s 32ms/step - loss: 6.2891e-05\n",
            "Epoch 76/100\n",
            "70/70 [==============================] - 2s 32ms/step - loss: 6.5911e-05\n",
            "Epoch 77/100\n",
            "70/70 [==============================] - 3s 49ms/step - loss: 6.2155e-05\n",
            "Epoch 78/100\n",
            "70/70 [==============================] - 2s 34ms/step - loss: 8.3659e-05\n",
            "Epoch 79/100\n",
            "70/70 [==============================] - 2s 31ms/step - loss: 5.8238e-05\n",
            "Epoch 80/100\n",
            "70/70 [==============================] - 2s 31ms/step - loss: 5.9963e-05\n",
            "Epoch 81/100\n",
            "70/70 [==============================] - 2s 31ms/step - loss: 6.1223e-05\n",
            "Epoch 82/100\n",
            "70/70 [==============================] - 3s 37ms/step - loss: 5.1768e-05\n",
            "Epoch 83/100\n",
            "70/70 [==============================] - 3s 48ms/step - loss: 5.6677e-05\n",
            "Epoch 84/100\n",
            "70/70 [==============================] - 2s 31ms/step - loss: 5.7567e-05\n",
            "Epoch 85/100\n",
            "70/70 [==============================] - 2s 31ms/step - loss: 5.8697e-05\n",
            "Epoch 86/100\n",
            "70/70 [==============================] - 2s 30ms/step - loss: 7.5732e-05\n",
            "Epoch 87/100\n",
            "70/70 [==============================] - 2s 31ms/step - loss: 5.5048e-05\n",
            "Epoch 88/100\n",
            "70/70 [==============================] - 3s 42ms/step - loss: 5.2173e-05\n",
            "Epoch 89/100\n",
            "70/70 [==============================] - 3s 44ms/step - loss: 5.5598e-05\n",
            "Epoch 90/100\n",
            "70/70 [==============================] - 2s 31ms/step - loss: 6.0559e-05\n",
            "Epoch 91/100\n",
            "70/70 [==============================] - 2s 31ms/step - loss: 6.2257e-05\n",
            "Epoch 92/100\n",
            "70/70 [==============================] - 2s 30ms/step - loss: 5.8886e-05\n",
            "Epoch 93/100\n",
            "70/70 [==============================] - 2s 31ms/step - loss: 6.3465e-05\n",
            "Epoch 94/100\n",
            "70/70 [==============================] - 3s 45ms/step - loss: 5.4701e-05\n",
            "Epoch 95/100\n",
            "70/70 [==============================] - 3s 42ms/step - loss: 5.1689e-05\n",
            "Epoch 96/100\n",
            "70/70 [==============================] - 2s 32ms/step - loss: 6.3596e-05\n",
            "Epoch 97/100\n",
            "70/70 [==============================] - 2s 31ms/step - loss: 4.7261e-05\n",
            "Epoch 98/100\n",
            "70/70 [==============================] - 2s 31ms/step - loss: 5.0761e-05\n",
            "Epoch 99/100\n",
            "70/70 [==============================] - 2s 30ms/step - loss: 5.1095e-05\n",
            "Epoch 100/100\n",
            "70/70 [==============================] - 3s 50ms/step - loss: 4.5182e-05\n"
          ]
        },
        {
          "output_type": "execute_result",
          "data": {
            "text/plain": [
              "<keras.src.callbacks.History at 0x7d3b6b1e78b0>"
            ]
          },
          "metadata": {},
          "execution_count": 62
        }
      ]
    },
    {
      "cell_type": "markdown",
      "source": [
        "Predictions"
      ],
      "metadata": {
        "id": "KJSLBr9oVcyl"
      }
    },
    {
      "cell_type": "code",
      "source": [
        "predicted_stock_prices = model.predict(X_test)\n",
        "predicted_stock_prices = scaler.inverse_transform(predicted_stock_prices.reshape(-1, 1))\n",
        "\n",
        "plt.plot(data['Date'][split_index + time_steps:], predicted_stock_prices, label='Predicted Prices')\n",
        "plt.plot(data['Date'][split_index + time_steps:], scaler.inverse_transform(test_data[time_steps:].reshape(-1, 1)),\n",
        "         label='Actual Prices')\n",
        "plt.xlabel('Dates')\n",
        "plt.ylabel('Stock Price (LKR)')\n",
        "plt.legend()\n",
        "plt.show()"
      ],
      "metadata": {
        "colab": {
          "base_uri": "https://localhost:8080/",
          "height": 466
        },
        "id": "KOiExuLJVejk",
        "outputId": "965224b9-5630-422b-b1cb-8aea81d72ba4"
      },
      "execution_count": 63,
      "outputs": [
        {
          "output_type": "stream",
          "name": "stdout",
          "text": [
            "15/15 [==============================] - 1s 9ms/step\n"
          ]
        },
        {
          "output_type": "display_data",
          "data": {
            "text/plain": [
              "<Figure size 640x480 with 1 Axes>"
            ],
            "image/png": "[encoded data removed]"
          },
          "metadata": {}
        }
      ]
    },
    {
      "cell_type": "markdown",
      "source": [
        "Comparison of the predicted prices with the actial prices"
      ],
      "metadata": {
        "id": "n3QuwNbfViMG"
      }
    },
    {
      "cell_type": "code",
      "source": [
        "results_df = pd.DataFrame({\n",
        "    'Date': data['Date'][split_index + time_steps:],\n",
        "    'Actual Prices (LKR)': scaler.inverse_transform(test_data[time_steps:].reshape(-1, 1)).flatten(),\n",
        "    'Predicted Prices (LKR)': predicted_stock_prices.flatten()\n",
        "})\n",
        "\n",
        "print(results_df)"
      ],
      "metadata": {
        "colab": {
          "base_uri": "https://localhost:8080/"
        },
        "id": "TkJQZOXsVt_v",
        "outputId": "d3ed48bf-3916-49c5-cf40-a7e5a7b09670"
      },
      "execution_count": 64,
      "outputs": [
        {
          "output_type": "stream",
          "name": "stdout",
          "text": [
            "            Date  Actual Prices (LKR)  Predicted Prices (LKR)\n",
            "4520  12/28/2001                618.1              596.043396\n",
            "4521  12/27/2001                607.0              599.256714\n",
            "4522  12/21/2001                593.5              599.476807\n",
            "4523  12/20/2001                591.0              595.633850\n",
            "4524  12/19/2001                580.2              589.923096\n",
            "...          ...                  ...                     ...\n",
            "4995  01/10/2000                547.7              536.497620\n",
            "4996  01/06/2000                556.5              535.267578\n",
            "4997  01/05/2000                562.2              535.911438\n",
            "4998  01/04/2000                571.2              538.573120\n",
            "4999  01/03/2000                574.2              543.287781\n",
            "\n",
            "[480 rows x 3 columns]\n"
          ]
        }
      ]
    },
    {
      "cell_type": "markdown",
      "source": [
        "Assess the performance of the model by computing the Root Mean Squared Error (RMSE)"
      ],
      "metadata": {
        "id": "iWHxyDHcV1nO"
      }
    },
    {
      "cell_type": "code",
      "source": [
        "predicted_stock_prices = model.predict(X_test)\n",
        "predicted_stock_prices = scaler.inverse_transform(predicted_stock_prices.reshape(-1, 1))\n",
        "\n",
        "actual_stock_prices = scaler.inverse_transform(test_data[time_steps:].reshape(-1, 1))\n",
        "\n",
        "rmse = sqrt(mean_squared_error(actual_stock_prices, predicted_stock_prices))\n",
        "print(f'Root Mean Squared Error (RMSE): {rmse}')"
      ],
      "metadata": {
        "colab": {
          "base_uri": "https://localhost:8080/"
        },
        "id": "8-Ouv6ncWLst",
        "outputId": "57ab3aae-d908-4763-ca30-a9d50352f6d3"
      },
      "execution_count": 65,
      "outputs": [
        {
          "output_type": "stream",
          "name": "stdout",
          "text": [
            "15/15 [==============================] - 0s 8ms/step\n",
            "Root Mean Squared Error (RMSE): 17.2421137741781\n"
          ]
        }
      ]
    }
  ]
}
